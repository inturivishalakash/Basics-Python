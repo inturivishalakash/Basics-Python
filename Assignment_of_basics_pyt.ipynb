{
  "nbformat": 4,
  "nbformat_minor": 0,
  "metadata": {
    "colab": {
      "provenance": []
    },
    "kernelspec": {
      "name": "python3",
      "display_name": "Python 3"
    },
    "language_info": {
      "name": "python"
    }
  },
  "cells": [
    {
      "cell_type": "markdown",
      "source": [
        "Python Basics"
      ],
      "metadata": {
        "id": "aOU5S6FJg97y"
      }
    },
    {
      "cell_type": "markdown",
      "source": [
        "Q1.What is Python, and why is it popular\n",
        "  \n",
        "  ->Python is a popular programming language known for its simple and easy-to-read code. It is used to build websites, analyze data, create machine learning models, automate tasks, and more.\n",
        "\n",
        "It’s popular because:\n",
        "\n",
        "   (a) It’s easy to learn\n",
        "\n",
        "  (b)Has many useful libraries\n",
        "\n",
        "  (c)Works in many areas like AI, data science, and web development\n",
        "\n",
        "   (d)Has a big helpful community"
      ],
      "metadata": {
        "id": "6fLZrrZuhMt5"
      }
    },
    {
      "cell_type": "markdown",
      "source": [
        "Q2.What is an interpreter in Python?\n",
        "\n",
        " ->When you write Python code, the interpreter:\n",
        "\n",
        " (a)Reads one line of your code\n",
        "\n",
        " (b)Translates it into machine language\n",
        "\n",
        " (c)Executes (runs) it immediately\n",
        "\n"
      ],
      "metadata": {
        "id": "1xyNAtmaizaJ"
      }
    },
    {
      "cell_type": "markdown",
      "source": [
        "Q3.What are pre-defined keywords in Python ?\n",
        "\n",
        " ->Pre-defined keywords in Python are special reserved words that have specific meanings and cannot be used as variable names."
      ],
      "metadata": {
        "id": "5lmlcTWyjzlM"
      }
    },
    {
      "cell_type": "code",
      "source": [
        "# in code language\n",
        "import keyword\n",
        "print(keyword.kwlist)\n"
      ],
      "metadata": {
        "colab": {
          "base_uri": "https://localhost:8080/"
        },
        "id": "ZMUvmXKJldE-",
        "outputId": "8bdf9ead-b98d-4190-f486-94c604e45dc8"
      },
      "execution_count": 1,
      "outputs": [
        {
          "output_type": "stream",
          "name": "stdout",
          "text": [
            "['False', 'None', 'True', 'and', 'as', 'assert', 'async', 'await', 'break', 'class', 'continue', 'def', 'del', 'elif', 'else', 'except', 'finally', 'for', 'from', 'global', 'if', 'import', 'in', 'is', 'lambda', 'nonlocal', 'not', 'or', 'pass', 'raise', 'return', 'try', 'while', 'with', 'yield']\n"
          ]
        }
      ]
    },
    {
      "cell_type": "markdown",
      "source": [
        "Q4.Can keywords be used as variable names ?\n",
        "\n",
        " ->No, keywords cannot be used as variable names in Python.Because keywords have special meanings in Python and are used to define the structure and rules of the program (like if, while, def, etc.)."
      ],
      "metadata": {
        "id": "dlODLYnojzhq"
      }
    },
    {
      "cell_type": "markdown",
      "source": [
        "Q5.What is mutability in Python ?\n",
        "\n",
        "  ->Mutability in Python means whether an object’s value can be changed after it is created.\n",
        "\n"
      ],
      "metadata": {
        "id": "EVFxtrWNjze2"
      }
    },
    {
      "cell_type": "code",
      "source": [
        "#example\n",
        "my_list = [1, 2, 3]\n",
        "my_list[0] = 10  #changes the list\n",
        "print(my_list)  # [10, 2, 3]\n"
      ],
      "metadata": {
        "colab": {
          "base_uri": "https://localhost:8080/"
        },
        "id": "vrOn2jBpnz5w",
        "outputId": "8632cd12-dd4b-4ebe-96a5-097216a375ea"
      },
      "execution_count": 2,
      "outputs": [
        {
          "output_type": "stream",
          "name": "stdout",
          "text": [
            "[10, 2, 3]\n"
          ]
        }
      ]
    },
    {
      "cell_type": "markdown",
      "source": [
        "Q6. Why are lists mutable, but tuples are immutable ?\n",
        "\n",
        "  ->List are mutable because lists are designed to store and modify a collection of items and you can add, remove, or change elements in a list after it is created.\n",
        "\n",
        "  Tuples are immutable because tuples are made to protect data from being changed and once created, the values cannot be modified.\n",
        "\n",
        ""
      ],
      "metadata": {
        "id": "DFJWr4jbjzcJ"
      }
    },
    {
      "cell_type": "markdown",
      "source": [
        "Q7. What is the difference between “==” and “is” operators in Python?\n",
        "\n",
        " -> (==) checks if the data inside is the same.\n",
        "\n",
        "  (is) checks if both variables point to the exact same object in memory.\n",
        "\n"
      ],
      "metadata": {
        "id": "t8cic6FvjzZe"
      }
    },
    {
      "cell_type": "code",
      "source": [
        "#Example\n",
        "a = [1, 2, 3]\n",
        "b = [1, 2, 3]\n",
        "\n",
        "print(a == b)\n",
        "print(a is b)#False → because they are different objects in memory\n"
      ],
      "metadata": {
        "colab": {
          "base_uri": "https://localhost:8080/"
        },
        "id": "fSVi-LCprzxv",
        "outputId": "af026198-e455-41f8-bc3c-7a707c12fd2a"
      },
      "execution_count": 5,
      "outputs": [
        {
          "output_type": "stream",
          "name": "stdout",
          "text": [
            "True\n",
            "False\n"
          ]
        }
      ]
    },
    {
      "cell_type": "code",
      "source": [
        "x = 5\n",
        "y = 5\n",
        "print(x is y) #True (same memory for small integers)\n"
      ],
      "metadata": {
        "colab": {
          "base_uri": "https://localhost:8080/"
        },
        "id": "Cl8BZYeysY7B",
        "outputId": "e62fbd6d-058e-419c-e806-b9a8ff566357"
      },
      "execution_count": 6,
      "outputs": [
        {
          "output_type": "stream",
          "name": "stdout",
          "text": [
            "True\n"
          ]
        }
      ]
    },
    {
      "cell_type": "markdown",
      "source": [
        "Q8.What are logical operators in Python ?\n",
        "\n",
        "  ->Logical operators in Python are used to combine or compare boolean values (True or False).\n",
        "  And there are 3 logical operator\n",
        "\n",
        "   (a) and\n",
        "\n",
        "   (b) or\n",
        "   \n",
        "   (c) not\n"
      ],
      "metadata": {
        "id": "ji-u84C7jzWk"
      }
    },
    {
      "cell_type": "code",
      "source": [
        "#Example\n",
        "#and\n",
        "x = 5\n",
        "print(x > 3 and x < 10) #True\n"
      ],
      "metadata": {
        "colab": {
          "base_uri": "https://localhost:8080/"
        },
        "id": "xfTaOPr7t95k",
        "outputId": "c6776b52-c6e4-4d61-d7c9-15a9517ef90f"
      },
      "execution_count": 9,
      "outputs": [
        {
          "output_type": "stream",
          "name": "stdout",
          "text": [
            "True\n"
          ]
        }
      ]
    },
    {
      "cell_type": "code",
      "source": [
        "#or\n",
        "x = 5\n",
        "print(x < 3 or x < 10)#True\n"
      ],
      "metadata": {
        "colab": {
          "base_uri": "https://localhost:8080/"
        },
        "id": "9YAEXYEVuJal",
        "outputId": "5967b87e-bc7c-482b-b946-f61c104ca004"
      },
      "execution_count": 10,
      "outputs": [
        {
          "output_type": "stream",
          "name": "stdout",
          "text": [
            "True\n"
          ]
        }
      ]
    },
    {
      "cell_type": "code",
      "source": [
        "#not\n",
        "x = 5\n",
        "print(not(x > 3)) #False (because x > 3 is True, and `not` makes it False)\n"
      ],
      "metadata": {
        "colab": {
          "base_uri": "https://localhost:8080/"
        },
        "id": "ltL53_0DvCkf",
        "outputId": "36aea63b-3d0d-41fc-fcab-2299ef588cc3"
      },
      "execution_count": 11,
      "outputs": [
        {
          "output_type": "stream",
          "name": "stdout",
          "text": [
            "False\n"
          ]
        }
      ]
    },
    {
      "cell_type": "markdown",
      "source": [
        "Q.9What is type casting in Python?\n",
        "\n",
        "  ->Type casting means converting one data type to another in Python.\n",
        "\n"
      ],
      "metadata": {
        "id": "UVOx4uH_jzEJ"
      }
    },
    {
      "cell_type": "code",
      "execution_count": 12,
      "metadata": {
        "colab": {
          "base_uri": "https://localhost:8080/"
        },
        "id": "FkZrwZpugmxf",
        "outputId": "74af94e3-39f6-4c3c-f43c-91ecf1504d17"
      },
      "outputs": [
        {
          "output_type": "stream",
          "name": "stdout",
          "text": [
            "110\n"
          ]
        }
      ],
      "source": [
        "#Example of type casting\n",
        "x = \"100\"\n",
        "y = int(x)    # Convert string to integer\n",
        "print(y + 10)  # Output: 110\n"
      ]
    },
    {
      "cell_type": "markdown",
      "source": [
        "Q10.What is the difference between implicit and explicit type casting ?\n",
        "\n",
        "->Implicit type casting means your automatically converts one data type to another without your help.\n",
        "\n",
        "  Explicit type casting means your manually convert one data type into another using functions like int(), float(), str(), etc."
      ],
      "metadata": {
        "id": "2jdi9bg8iyzK"
      }
    },
    {
      "cell_type": "code",
      "source": [
        "#Example of Implicit type casting\n",
        "x = 10   # int\n",
        "y = 2.5  # float\n",
        "\n",
        "print(type(x))\n",
        "print(type(y))\n"
      ],
      "metadata": {
        "colab": {
          "base_uri": "https://localhost:8080/"
        },
        "id": "4dwQmptbxLuA",
        "outputId": "517431c3-6f3b-458a-cbe7-4ba61c03664f"
      },
      "execution_count": 13,
      "outputs": [
        {
          "output_type": "stream",
          "name": "stdout",
          "text": [
            "<class 'int'>\n",
            "<class 'float'>\n"
          ]
        }
      ]
    },
    {
      "cell_type": "code",
      "source": [
        "#Example of Explicit type casting\n",
        "x = \"100\"   # string\n",
        "y = int(x)  # convert to int\n",
        "\n",
        "type(y)\n"
      ],
      "metadata": {
        "colab": {
          "base_uri": "https://localhost:8080/"
        },
        "id": "wF5xkS9jxLY0",
        "outputId": "b4ab44a7-2d1a-411c-b982-1515bdde1e60"
      },
      "execution_count": 20,
      "outputs": [
        {
          "output_type": "execute_result",
          "data": {
            "text/plain": [
              "int"
            ]
          },
          "metadata": {},
          "execution_count": 20
        }
      ]
    },
    {
      "cell_type": "markdown",
      "source": [
        "Q11.What is the purpose of conditional statements in Python ?\n",
        "\n",
        "  ->Conditional statements in Python are used to make decisions in your program based on certain conditions.\n",
        "\n"
      ],
      "metadata": {
        "id": "_EBrICzuyiqc"
      }
    },
    {
      "cell_type": "code",
      "source": [
        "#Example of conditional statement\n",
        "age = 18\n",
        "\n",
        "if age >= 18:\n",
        "    print(\"You can vote!\")\n",
        "else:\n",
        "    print(\"You are too young.\")\n"
      ],
      "metadata": {
        "colab": {
          "base_uri": "https://localhost:8080/"
        },
        "id": "OhNt6rNKzq58",
        "outputId": "61e9a194-fd28-4a0c-f2d6-f7a20bc30b6c"
      },
      "execution_count": 21,
      "outputs": [
        {
          "output_type": "stream",
          "name": "stdout",
          "text": [
            "You can vote!\n"
          ]
        }
      ]
    },
    {
      "cell_type": "markdown",
      "source": [
        "Q12.  How does the elif statement work?\n",
        "\n",
        "   ->The **elif** statement stands for \"else if\".\n",
        "It lets you check multiple conditions, one after another.\n",
        "\n",
        "\n",
        "Python checks the first if condition.\n",
        "\n",
        "If it's True, it runs that block and skips the rest.\n",
        "\n",
        "If it's False, it checks the elif.\n",
        "\n",
        "If none of the conditions are True, the else block runs (if present).\n",
        "\n"
      ],
      "metadata": {
        "id": "LQMscgUcz_KI"
      }
    },
    {
      "cell_type": "code",
      "source": [
        "#Exaple of elif statement\n",
        "marks = 75\n",
        "\n",
        "if marks >= 90:\n",
        "    print(\"Grade A\")\n",
        "elif marks >= 75:\n",
        "    print(\"Grade B\")\n",
        "elif marks >= 60:\n",
        "    print(\"Grade C\")\n",
        "else:\n",
        "    print(\"Grade D\")\n"
      ],
      "metadata": {
        "colab": {
          "base_uri": "https://localhost:8080/"
        },
        "id": "PwjGONCT1P2G",
        "outputId": "ad73f098-f07d-4f73-80f0-fe7571c03737"
      },
      "execution_count": 22,
      "outputs": [
        {
          "output_type": "stream",
          "name": "stdout",
          "text": [
            "Grade B\n"
          ]
        }
      ]
    },
    {
      "cell_type": "markdown",
      "source": [
        "Q13.  What is the difference between for and while loops?\n",
        "\n",
        "   ->Both for and while loops are used for repeating code, but they work differently.\n",
        "\n",
        "   (a) For loop are used when you know how many times you want to repeat and Loops are over a sequence (like list, range, string, etc.).\n",
        "\n",
        "   (b) while loop are used when you don't know exactly how many times and it's repeats as long as a condition is True."
      ],
      "metadata": {
        "id": "7bbDI4-T1z7P"
      }
    },
    {
      "cell_type": "code",
      "source": [
        "#Example of while loop\n",
        "i = 0\n",
        "while i < 10:\n",
        "    print(i)\n",
        "    i += 1\n"
      ],
      "metadata": {
        "colab": {
          "base_uri": "https://localhost:8080/"
        },
        "id": "fwQSV-dU3nF-",
        "outputId": "9870fe71-fa65-4cec-b963-c36746de2893"
      },
      "execution_count": 25,
      "outputs": [
        {
          "output_type": "stream",
          "name": "stdout",
          "text": [
            "0\n",
            "1\n",
            "2\n",
            "3\n",
            "4\n",
            "5\n",
            "6\n",
            "7\n",
            "8\n",
            "9\n"
          ]
        }
      ]
    },
    {
      "cell_type": "code",
      "source": [
        "#Example of for loop\n",
        "for i in range(5):\n",
        "    print(i)\n"
      ],
      "metadata": {
        "colab": {
          "base_uri": "https://localhost:8080/"
        },
        "id": "ziWVP4DC1uxZ",
        "outputId": "ac4b61b2-6465-4d22-e239-3a27d066b0cc"
      },
      "execution_count": 24,
      "outputs": [
        {
          "output_type": "stream",
          "name": "stdout",
          "text": [
            "0\n",
            "1\n",
            "2\n",
            "3\n",
            "4\n"
          ]
        }
      ]
    },
    {
      "cell_type": "markdown",
      "source": [
        "Q14.Describe a scenario where a while loop is more suitable than a for loop.\n",
        "\n",
        "  ->A while loop is better when you don't know in advance how many times the loop should run — for example, when you're waiting for user input or a condition to be met."
      ],
      "metadata": {
        "id": "w4mOsGi7QW-Y"
      }
    },
    {
      "cell_type": "code",
      "source": [
        "correct_password = \"Vishal123\"\n",
        "user_input = \"\"\n",
        "\n",
        "while user_input != correct_password:\n",
        "    user_input = input(\"Enter password: \")\n",
        "\n",
        "print(\"Access granted!\")\n"
      ],
      "metadata": {
        "colab": {
          "base_uri": "https://localhost:8080/"
        },
        "id": "n0dSXv6lRlyM",
        "outputId": "8e1d962f-802d-41f9-ffa3-fe34e9a65148"
      },
      "execution_count": 1,
      "outputs": [
        {
          "output_type": "stream",
          "name": "stdout",
          "text": [
            "Enter password: Vishal\n",
            "Enter password: vishal\n",
            "Enter password: akash\n",
            "Enter password: akash\n",
            "Enter password: Vishal123\n",
            "Access granted!\n"
          ]
        }
      ]
    },
    {
      "cell_type": "markdown",
      "source": [
        "# Practical Questions"
      ],
      "metadata": {
        "id": "xp4u_65FSHsT"
      }
    },
    {
      "cell_type": "markdown",
      "source": [
        "Q1. Write a Python program to print \"Hello, World!\""
      ],
      "metadata": {
        "id": "AslwjkXUSUxA"
      }
    },
    {
      "cell_type": "code",
      "source": [
        "#Ans 1.\n",
        "print(\"Hello,world!\")"
      ],
      "metadata": {
        "colab": {
          "base_uri": "https://localhost:8080/"
        },
        "id": "X4wuREIWS2j8",
        "outputId": "93309348-a07e-493a-c15a-ac813cb6d908"
      },
      "execution_count": 11,
      "outputs": [
        {
          "output_type": "stream",
          "name": "stdout",
          "text": [
            "Hello,world!\n"
          ]
        }
      ]
    },
    {
      "cell_type": "markdown",
      "source": [
        "Q2. Write a Python program that displays your name and age."
      ],
      "metadata": {
        "id": "HhB5-MNeTbam"
      }
    },
    {
      "cell_type": "code",
      "source": [
        "#Ans 2.\n",
        "Name=(input(\"Enter your name: \"))\n",
        "Age=(int(input(\"Enter yor name: \")))\n",
        "\n",
        "print(\"My name is\",Name)\n",
        "print(\"My age is\",Age)"
      ],
      "metadata": {
        "colab": {
          "base_uri": "https://localhost:8080/"
        },
        "id": "BJBsDiZxTnbf",
        "outputId": "472053f3-800e-4028-94cc-b2017d150995"
      },
      "execution_count": 14,
      "outputs": [
        {
          "output_type": "stream",
          "name": "stdout",
          "text": [
            "Enter your name: Inturi Vishal Akash\n",
            "Enter yor name: 23\n",
            "My name is Inturi Vishal Akash\n",
            "My age is 23\n"
          ]
        }
      ]
    },
    {
      "cell_type": "markdown",
      "source": [
        "Q3. Write code to print all the pre-defined keywords in Python using the keyword library."
      ],
      "metadata": {
        "id": "KHGmQWD7U21F"
      }
    },
    {
      "cell_type": "code",
      "source": [
        "#Ans 3.\n",
        "import keyword\n",
        "print(keyword.kwlist)"
      ],
      "metadata": {
        "colab": {
          "base_uri": "https://localhost:8080/"
        },
        "id": "lMSH28k7VBYc",
        "outputId": "f895d1fd-ec14-4d3a-ece4-f07548b2bab4"
      },
      "execution_count": 15,
      "outputs": [
        {
          "output_type": "stream",
          "name": "stdout",
          "text": [
            "['False', 'None', 'True', 'and', 'as', 'assert', 'async', 'await', 'break', 'class', 'continue', 'def', 'del', 'elif', 'else', 'except', 'finally', 'for', 'from', 'global', 'if', 'import', 'in', 'is', 'lambda', 'nonlocal', 'not', 'or', 'pass', 'raise', 'return', 'try', 'while', 'with', 'yield']\n"
          ]
        }
      ]
    },
    {
      "cell_type": "markdown",
      "source": [
        "Q4. Write a program that checks if a given word is a Python keyword."
      ],
      "metadata": {
        "id": "DiKzj7NHV8Vp"
      }
    },
    {
      "cell_type": "code",
      "source": [
        "#Ans 4.\n",
        "import keyword\n",
        "\n",
        "word = input(\"Enter a word: \")\n",
        "\n",
        "if keyword.iskeyword(word):\n",
        "    print(\"It is a Python keyword.\")\n",
        "else:\n",
        "    print(\"It is not a Python keyword.\")\n"
      ],
      "metadata": {
        "colab": {
          "base_uri": "https://localhost:8080/"
        },
        "id": "plN2esFCXKNV",
        "outputId": "0f1e4301-dcb9-4dff-9148-f8e4ab7cacaa"
      },
      "execution_count": 10,
      "outputs": [
        {
          "output_type": "stream",
          "name": "stdout",
          "text": [
            "Enter a word: while\n",
            "It is a Python keyword.\n"
          ]
        }
      ]
    },
    {
      "cell_type": "markdown",
      "source": [
        "Q5. Create a list and tuple in Python, and demonstrate how attempting to change an element works differently\n",
        "for each."
      ],
      "metadata": {
        "id": "SCFAi7dlYEgY"
      }
    },
    {
      "cell_type": "code",
      "source": [
        "#Ans 5\n",
        "#Example of list\n",
        "My_list = [10,20,30,40]\n",
        "My_list[1]=80              #changing of my first list to another list\n",
        "                           #list rule is [0,1,2,3] =[10,20,30,40]\n",
        "print(My_list)"
      ],
      "metadata": {
        "colab": {
          "base_uri": "https://localhost:8080/"
        },
        "id": "TFPB6kJrXPFO",
        "outputId": "114e6cdd-4d7e-4ef1-fef2-692622ae050d"
      },
      "execution_count": 24,
      "outputs": [
        {
          "output_type": "stream",
          "name": "stdout",
          "text": [
            "[10, 80, 30, 40]\n"
          ]
        }
      ]
    },
    {
      "cell_type": "code",
      "source": [
        "#Example od Tuple\n",
        "My_tuple = (10,20,30,40)\n",
        "My_tuple[2]=65 #This will show error because you can not change tuple items"
      ],
      "metadata": {
        "colab": {
          "base_uri": "https://localhost:8080/",
          "height": 176
        },
        "id": "n5HfYCP3Z7tS",
        "outputId": "d925ec42-ecd4-4000-ab82-5553de4635fd"
      },
      "execution_count": 23,
      "outputs": [
        {
          "output_type": "error",
          "ename": "TypeError",
          "evalue": "'tuple' object does not support item assignment",
          "traceback": [
            "\u001b[0;31m---------------------------------------------------------------------------\u001b[0m",
            "\u001b[0;31mTypeError\u001b[0m                                 Traceback (most recent call last)",
            "\u001b[0;32m/tmp/ipython-input-23-4242082752.py\u001b[0m in \u001b[0;36m<cell line: 0>\u001b[0;34m()\u001b[0m\n\u001b[1;32m      1\u001b[0m \u001b[0;31m#Example od Tuple\u001b[0m\u001b[0;34m\u001b[0m\u001b[0;34m\u001b[0m\u001b[0m\n\u001b[1;32m      2\u001b[0m \u001b[0mMy_tuple\u001b[0m \u001b[0;34m=\u001b[0m \u001b[0;34m(\u001b[0m\u001b[0;36m10\u001b[0m\u001b[0;34m,\u001b[0m\u001b[0;36m20\u001b[0m\u001b[0;34m,\u001b[0m\u001b[0;36m30\u001b[0m\u001b[0;34m,\u001b[0m\u001b[0;36m40\u001b[0m\u001b[0;34m)\u001b[0m\u001b[0;34m\u001b[0m\u001b[0;34m\u001b[0m\u001b[0m\n\u001b[0;32m----> 3\u001b[0;31m \u001b[0mMy_tuple\u001b[0m\u001b[0;34m[\u001b[0m\u001b[0;36m2\u001b[0m\u001b[0;34m]\u001b[0m\u001b[0;34m=\u001b[0m\u001b[0;36m65\u001b[0m \u001b[0;31m#this will show error because you can not change tuple\u001b[0m\u001b[0;34m\u001b[0m\u001b[0;34m\u001b[0m\u001b[0m\n\u001b[0m",
            "\u001b[0;31mTypeError\u001b[0m: 'tuple' object does not support item assignment"
          ]
        }
      ]
    },
    {
      "cell_type": "markdown",
      "source": [
        " Q6.Write a function to demonstrate the behavior of mutable and immutable arguments"
      ],
      "metadata": {
        "id": "4SXezf0Obbg8"
      }
    },
    {
      "cell_type": "code",
      "source": [
        "#Ans6\n",
        "#Mutbale changes\n",
        "Student_list=[\"Sanjay\",\"Vijay\",\"Akash\",\"Rohit\"]\n",
        "Student_list[2]=\"Manav\" #we are changeing Akash from Manav from the list\n",
        "print(Student_list)\n",
        "#Mutable changes are that can be change.\n",
        "\n",
        "\n"
      ],
      "metadata": {
        "colab": {
          "base_uri": "https://localhost:8080/"
        },
        "id": "VKsyPLukd7iU",
        "outputId": "b8bdb8fa-23cf-436c-d276-120cab988548"
      },
      "execution_count": 27,
      "outputs": [
        {
          "output_type": "stream",
          "name": "stdout",
          "text": [
            "['Sanjay', 'Vijay', 'Manav', 'Rohit']\n"
          ]
        }
      ]
    },
    {
      "cell_type": "code",
      "source": [
        "#Immutable changes\n",
        "Name = \"Pwskiils\"\n",
        "Name[2]=\"r\"\n",
        "#it will show error because immutable can not be change"
      ],
      "metadata": {
        "colab": {
          "base_uri": "https://localhost:8080/",
          "height": 176
        },
        "id": "NWQIhw_4gJlo",
        "outputId": "542b6d01-4e6f-4d51-da73-e8688e0c09d3"
      },
      "execution_count": 28,
      "outputs": [
        {
          "output_type": "error",
          "ename": "TypeError",
          "evalue": "'str' object does not support item assignment",
          "traceback": [
            "\u001b[0;31m---------------------------------------------------------------------------\u001b[0m",
            "\u001b[0;31mTypeError\u001b[0m                                 Traceback (most recent call last)",
            "\u001b[0;32m/tmp/ipython-input-28-2670105701.py\u001b[0m in \u001b[0;36m<cell line: 0>\u001b[0;34m()\u001b[0m\n\u001b[1;32m      1\u001b[0m \u001b[0;31m#Immutable changes\u001b[0m\u001b[0;34m\u001b[0m\u001b[0;34m\u001b[0m\u001b[0m\n\u001b[1;32m      2\u001b[0m \u001b[0mName\u001b[0m \u001b[0;34m=\u001b[0m \u001b[0;34m\"Pwskiils\"\u001b[0m\u001b[0;34m\u001b[0m\u001b[0;34m\u001b[0m\u001b[0m\n\u001b[0;32m----> 3\u001b[0;31m \u001b[0mName\u001b[0m\u001b[0;34m[\u001b[0m\u001b[0;36m2\u001b[0m\u001b[0;34m]\u001b[0m\u001b[0;34m=\u001b[0m\u001b[0;34m\"r\"\u001b[0m\u001b[0;34m\u001b[0m\u001b[0;34m\u001b[0m\u001b[0m\n\u001b[0m",
            "\u001b[0;31mTypeError\u001b[0m: 'str' object does not support item assignment"
          ]
        }
      ]
    },
    {
      "cell_type": "markdown",
      "source": [
        "Q7.  Write a program that performs basic arithmetic operations on two user-input numbers"
      ],
      "metadata": {
        "id": "vMayGWoxfhhf"
      }
    },
    {
      "cell_type": "code",
      "source": [
        "#Ans 7\n",
        "Num1=int(input(\"Enter a number: \"))\n",
        "Num2=int(input(\"Enter a number: \"))\n",
        "operator = input(\"Enter a operater\")\n",
        "\n",
        "if operator ==\"+\":\n",
        "  print(Num1+Num2)\n",
        "elif operator ==\"-\":\n",
        "  print(Num1-Num2)\n",
        "elif operator ==\"*\":\n",
        "  print(Num1*Num2)\n",
        "elif operator ==\"/\":\n",
        "  print(Num1/Num2)\n",
        "else:\n",
        "  print(\"Invalid operator\")"
      ],
      "metadata": {
        "colab": {
          "base_uri": "https://localhost:8080/"
        },
        "id": "_QFXiCwFgBR9",
        "outputId": "b68d79aa-a5bf-4a6a-a647-5901cd080e7a"
      },
      "execution_count": 30,
      "outputs": [
        {
          "output_type": "stream",
          "name": "stdout",
          "text": [
            "Enter a number: 45\n",
            "Enter a number: 76\n",
            "Enter a operater+\n",
            "121\n"
          ]
        }
      ]
    },
    {
      "cell_type": "markdown",
      "source": [
        "Q8.  Write a program to demonstrate the use of logical operators."
      ],
      "metadata": {
        "id": "vj5w7wKgiX-M"
      }
    },
    {
      "cell_type": "code",
      "source": [
        "#Ans 8.\n",
        "# Logical Operators Demo\n",
        "\n",
        "a = 10\n",
        "b = 5\n",
        "c = 15\n",
        "\n",
        "# Using 'and' operator\n",
        "if a > b and a < c:\n",
        "    print(\"a is greater than b AND less than c\")\n",
        "\n",
        "# Using 'or' operator\n",
        "if a > b or b > c:\n",
        "    print(\"At least one condition is True (a > b or b > c)\")\n",
        "\n",
        "# Using 'not' operator\n",
        "if not (b > a):\n",
        "    print(\"It is NOT true that b is greater than a\")\n"
      ],
      "metadata": {
        "colab": {
          "base_uri": "https://localhost:8080/"
        },
        "id": "bakRoBA0ijq9",
        "outputId": "4968e8df-0c4e-4cd7-92dc-52df45f722c6"
      },
      "execution_count": 31,
      "outputs": [
        {
          "output_type": "stream",
          "name": "stdout",
          "text": [
            "a is greater than b AND less than c\n",
            "At least one condition is True (a > b or b > c)\n",
            "It is NOT true that b is greater than a\n"
          ]
        }
      ]
    },
    {
      "cell_type": "markdown",
      "source": [
        "Q9 .  Write a Python program to convert user input from string to integer, float, and boolean types."
      ],
      "metadata": {
        "id": "XWbPBT4Ej1HR"
      }
    },
    {
      "cell_type": "code",
      "source": [
        "#Ans 9\n",
        "# Ask user to enter a value\n",
        "value = input(\"Enter Value: \")\n",
        "\n",
        "# Convert to integer\n",
        "print(\"As integer:\", int(value))\n",
        "\n",
        "# Convert to float\n",
        "print(\"As float:\", float(value))\n",
        "\n",
        "# Convert to boolean\n",
        "print(\"As boolean:\", bool(value))\n"
      ],
      "metadata": {
        "colab": {
          "base_uri": "https://localhost:8080/"
        },
        "id": "2KfJWCvwkBpt",
        "outputId": "9f82e65d-a1c8-4666-bd54-19abf1ff38ad"
      },
      "execution_count": 32,
      "outputs": [
        {
          "output_type": "stream",
          "name": "stdout",
          "text": [
            "Enter Value: 48\n",
            "As integer: 48\n",
            "As float: 48.0\n",
            "As boolean: True\n"
          ]
        }
      ]
    },
    {
      "cell_type": "markdown",
      "source": [
        "Q10.Write code to demonstrate type casting with list elements."
      ],
      "metadata": {
        "id": "8NBZr0U39Az1"
      }
    },
    {
      "cell_type": "code",
      "source": [
        "#Ans 10.\n",
        "#Original lish\n",
        "str_list=[\"10\",\"20\",\"30\",\"40\",\"50\"]\n",
        "\n",
        "#convert str to int\n",
        "int_list =[int(x) for x in str_list]\n",
        "print(\"integer list:\",int_list)\n",
        "\n",
        "#convert str to float\n",
        "float_list =[float(x) for x in str_list]\n",
        "print(\"float list:\",float_list)\n",
        "\n",
        "#convert str to boolen\n",
        "bool_list =[bool(x) for x in str_list]\n",
        "print(\"boolen list:\",bool_list)"
      ],
      "metadata": {
        "colab": {
          "base_uri": "https://localhost:8080/"
        },
        "id": "ylwN6rL6_PoN",
        "outputId": "44f59a62-29f7-4287-b031-927aeffde14d"
      },
      "execution_count": 2,
      "outputs": [
        {
          "output_type": "stream",
          "name": "stdout",
          "text": [
            "integer list: [10, 20, 30, 40, 50]\n",
            "float list: [10.0, 20.0, 30.0, 40.0, 50.0]\n",
            "boolen list: [True, True, True, True, True]\n"
          ]
        }
      ]
    },
    {
      "cell_type": "markdown",
      "source": [
        "Q11. Write a program that checks if a number is positive, negative, or zero."
      ],
      "metadata": {
        "id": "ARASDjMVBqFN"
      }
    },
    {
      "cell_type": "code",
      "source": [
        "#Ans 11.\n",
        "#if the number is positive\n",
        "num = int(input(\"Enter a Number: \"))\n",
        "\n",
        "if num > 0:\n",
        "  print(\"Number is positive\")\n",
        "elif num < 0:\n",
        "  print(\"Number is negative\")\n",
        "else:\n",
        "  print(\"Number is zero\")"
      ],
      "metadata": {
        "colab": {
          "base_uri": "https://localhost:8080/"
        },
        "id": "yRTZQbDlByAv",
        "outputId": "b7d87212-3e32-4848-fc3d-cb223414710a"
      },
      "execution_count": 5,
      "outputs": [
        {
          "output_type": "stream",
          "name": "stdout",
          "text": [
            "Enter a Number: 46\n",
            "Number is positive\n"
          ]
        }
      ]
    },
    {
      "cell_type": "code",
      "source": [
        "#if the number  is  negative\n",
        "num = int(input(\"Enter a Number: \"))\n",
        "\n",
        "if num > 0:\n",
        "  print(\"Number is positive\")\n",
        "elif num < 0:\n",
        "  print(\"Number is negative\")\n",
        "else:\n",
        "  print(\"Number is zero\")"
      ],
      "metadata": {
        "colab": {
          "base_uri": "https://localhost:8080/"
        },
        "id": "Mqls2cPPC-re",
        "outputId": "55f191fa-1d1c-47bf-f820-b7a1445ef857"
      },
      "execution_count": 6,
      "outputs": [
        {
          "output_type": "stream",
          "name": "stdout",
          "text": [
            "Enter a Number: -23\n",
            "Number is negative\n"
          ]
        }
      ]
    },
    {
      "cell_type": "code",
      "source": [
        "# if the number is zero\n",
        "num = int(input(\"Enter a Number: \"))\n",
        "\n",
        "if num > 0:\n",
        "  print(\"Number is positive\")\n",
        "elif num < 0:\n",
        "  print(\"Number is negative\")\n",
        "else:\n",
        "  print(\"Number is zero\")"
      ],
      "metadata": {
        "colab": {
          "base_uri": "https://localhost:8080/"
        },
        "id": "buhQmo-ADjLr",
        "outputId": "33842c94-d63a-4bb2-f2f5-c156c5d3a471"
      },
      "execution_count": 7,
      "outputs": [
        {
          "output_type": "stream",
          "name": "stdout",
          "text": [
            "Enter a Number: 0\n",
            "Number is zero\n"
          ]
        }
      ]
    },
    {
      "cell_type": "markdown",
      "source": [
        "Q12. Write a for loop to print numbers from 1 to 10.\n"
      ],
      "metadata": {
        "id": "eO_8H4ZMDtft"
      }
    },
    {
      "cell_type": "code",
      "source": [
        "#Ans 12\n",
        "for i in range(1,11):\n",
        "  print(i)\n"
      ],
      "metadata": {
        "colab": {
          "base_uri": "https://localhost:8080/"
        },
        "id": "a3T3cz1OD6UR",
        "outputId": "18c9971d-1db3-4b04-bd0c-292686ed4ac9"
      },
      "execution_count": 8,
      "outputs": [
        {
          "output_type": "stream",
          "name": "stdout",
          "text": [
            "1\n",
            "2\n",
            "3\n",
            "4\n",
            "5\n",
            "6\n",
            "7\n",
            "8\n",
            "9\n",
            "10\n"
          ]
        }
      ]
    },
    {
      "cell_type": "markdown",
      "source": [
        "Q 13. . Write a Python program to find the sum of all even numbers between 1 and 50."
      ],
      "metadata": {
        "id": "jd0vpncIET0-"
      }
    },
    {
      "cell_type": "code",
      "source": [
        "#Ans 13\n",
        "sum_even = 0\n",
        "\n",
        "for i in range(1, 51):\n",
        "    if i % 2 == 0:\n",
        "        sum_even += i\n",
        "\n",
        "print(\"Sum of even numbers from 1 to 50 is:\", sum_even)\n"
      ],
      "metadata": {
        "colab": {
          "base_uri": "https://localhost:8080/"
        },
        "id": "99pLlwilEx9F",
        "outputId": "79da7a1c-0c76-42b4-b82e-7927114ca385"
      },
      "execution_count": 13,
      "outputs": [
        {
          "output_type": "stream",
          "name": "stdout",
          "text": [
            "Sum of even numbers from 1 to 50 is: 650\n"
          ]
        }
      ]
    },
    {
      "cell_type": "markdown",
      "source": [
        "Q 14.  Write a program to reverse a string using a while loop."
      ],
      "metadata": {
        "id": "fJJcKk6YF6Og"
      }
    },
    {
      "cell_type": "code",
      "source": [
        "#Ans14\n",
        "# Ask the user to enter a string\n",
        "text = input(\"Enter a string: \")\n",
        "\n",
        "# Initialize index and result\n",
        "i = len(text) - 1\n",
        "reversed_text = \"\"\n",
        "\n",
        "# Use while loop to reverse the string\n",
        "while i >= 0:\n",
        "    reversed_text += text[i]\n",
        "    i -= 1\n",
        "\n",
        "# Print the reversed string\n",
        "print(\"Reversed string:\", reversed_text)\n"
      ],
      "metadata": {
        "colab": {
          "base_uri": "https://localhost:8080/"
        },
        "id": "w4We24ogF5U1",
        "outputId": "bc5f4a09-06a2-4f86-bd0e-e3c5657cc690"
      },
      "execution_count": 14,
      "outputs": [
        {
          "output_type": "stream",
          "name": "stdout",
          "text": [
            "Enter a string: Vishal\n",
            "Reversed string: lahsiV\n"
          ]
        }
      ]
    },
    {
      "cell_type": "markdown",
      "source": [
        "Q15. Write a Python program to calculate the factorial of a number provided by the user using a while loop."
      ],
      "metadata": {
        "id": "9DtyGw1QGmj2"
      }
    },
    {
      "cell_type": "code",
      "source": [
        "#Ans 15\n",
        "# Ask the user to enter a number\n",
        "num = int(input(\"Enter a number: \"))\n",
        "\n",
        "# Initialize factorial and counter\n",
        "factorial = 1\n",
        "i = 1\n",
        "\n",
        "# Use while loop to calculate factorial\n",
        "while i <= num:\n",
        "    factorial *= i\n",
        "    i += 1\n",
        "\n",
        "# Print the result\n",
        "print(\"Factorial of\", num, \"is:\", factorial)\n"
      ],
      "metadata": {
        "colab": {
          "base_uri": "https://localhost:8080/"
        },
        "id": "EGKG8IUZGuPc",
        "outputId": "18102133-9512-47f0-faff-907ca0707086"
      },
      "execution_count": 15,
      "outputs": [
        {
          "output_type": "stream",
          "name": "stdout",
          "text": [
            "Enter a number: 7\n",
            "Factorial of 7 is: 5040\n"
          ]
        }
      ]
    }
  ]
}